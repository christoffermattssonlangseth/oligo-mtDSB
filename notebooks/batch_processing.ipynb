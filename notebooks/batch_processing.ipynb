{
 "cells": [
  {
   "cell_type": "markdown",
   "id": "1f4325ec-b793-4194-a511-d5a298145fd3",
   "metadata": {},
   "source": [
    "# processing eae 5k"
   ]
  },
  {
   "cell_type": "markdown",
   "id": "c492125d-f06e-4acf-b14a-9bb7968ca3ec",
   "metadata": {},
   "source": [
    "## load packages"
   ]
  },
  {
   "cell_type": "code",
   "execution_count": null,
   "id": "d130dc5c-7551-4d1c-b0a2-86f830192b67",
   "metadata": {},
   "outputs": [],
   "source": [
    "import warnings\n",
    "warnings.filterwarnings('ignore')\n",
    "import os\n",
    "import scanpy as sc\n",
    "import pandas as pd\n",
    "import matplotlib.pyplot as plt\n",
    "import numpy as np\n",
    "from sklearn.cluster import KMeans"
   ]
  },
  {
   "cell_type": "markdown",
   "id": "d3e42d34-470e-4013-95e8-72c618c7ef67",
   "metadata": {},
   "source": [
    "## data retrival"
   ]
  },
  {
   "cell_type": "code",
   "execution_count": null,
   "id": "56c7a91c-084f-45da-9c8d-0e23abb7b4e1",
   "metadata": {},
   "outputs": [],
   "source": [
    "import os\n",
    "import scanpy as sc\n",
    "import pandas as pd\n",
    "\n",
    "base_dir = '/Volumes/Castelo_Branco/NGSDATA/[spatialOmics_TS]Mouse_RREAE_Xenium5k_SpinalCord#12Jun2025/RawData'\n",
    "\n",
    "# Only keep subfolders matching \"GoncaloTing\"\n",
    "runs = [d for d in os.listdir(base_dir) if 'GoncaloTing' in d]\n",
    "\n",
    "ad_list = []\n",
    "\n",
    "for run in runs:\n",
    "    run_path = os.path.join(base_dir, run)\n",
    "\n",
    "    # Look for sample folders inside this run\n",
    "    samples = [s for s in os.listdir(run_path) if os.path.isdir(os.path.join(run_path, s))]\n",
    "\n",
    "    for sample in samples:\n",
    "        sample_path = os.path.join(run_path, sample)\n",
    "\n",
    "        h5_path = os.path.join(sample_path, 'cell_feature_matrix.h5')\n",
    "        cell_info_path = os.path.join(sample_path, 'cells.csv.gz')\n",
    "\n",
    "        if not (os.path.exists(h5_path) and os.path.exists(cell_info_path)):\n",
    "            print(f\"Skipping {sample_path} (missing required files)\")\n",
    "            continue\n",
    "\n",
    "        print(f\"Loading sample: {sample_path}\")\n",
    "        ad_int = sc.read_10x_h5(h5_path)\n",
    "        cell_info = pd.read_csv(cell_info_path, index_col=0)\n",
    "\n",
    "        ad_int.obs = cell_info\n",
    "        ad_int.obs['run'] = run\n",
    "        ad_int.obs['sample'] = sample\n",
    "\n",
    "        ad_list.append(ad_int)"
   ]
  },
  {
   "cell_type": "code",
   "execution_count": null,
   "id": "28c362c4-d281-4797-beff-353ed23e51a1",
   "metadata": {},
   "outputs": [],
   "source": [
    "ad = sc.concat(ad_list)"
   ]
  },
  {
   "cell_type": "code",
   "execution_count": null,
   "id": "3e2d7c6f-c720-40bc-9369-fb12c2296429",
   "metadata": {},
   "outputs": [],
   "source": [
    "ad.obs[\"grid_label\"] = ad.obs[\"sample\"].str.split(\"__\").str[2]"
   ]
  },
  {
   "cell_type": "code",
   "execution_count": null,
   "id": "bcc207a6-32d1-4d7b-9c54-8a6b9b7578f5",
   "metadata": {},
   "outputs": [],
   "source": [
    "ad.obs[\"grid_label\"]"
   ]
  },
  {
   "cell_type": "markdown",
   "id": "3dd16fee-82ca-4a61-931d-b28719563c31",
   "metadata": {},
   "source": [
    "## write raw data"
   ]
  },
  {
   "cell_type": "code",
   "execution_count": null,
   "id": "9a2ca963-5e78-4900-b61c-a32c54d25f05",
   "metadata": {},
   "outputs": [],
   "source": [
    "ad.X = ad.X.toarray()"
   ]
  },
  {
   "cell_type": "code",
   "execution_count": null,
   "id": "eaa3b8c1-4ef3-417f-9690-d7967534e180",
   "metadata": {},
   "outputs": [],
   "source": [
    "ad.write('../data/RREAE_5k_raw.h5ad')"
   ]
  },
  {
   "cell_type": "markdown",
   "id": "7d8e4cb2-cada-40db-a364-5602915b5c9e",
   "metadata": {},
   "source": [
    "## preprocessing"
   ]
  },
  {
   "cell_type": "markdown",
   "id": "9a6a8de5-0a03-411a-ad35-a37b7570e7e2",
   "metadata": {},
   "source": [
    "### calculate qc metrics and filter cells for counts and number of genes"
   ]
  },
  {
   "cell_type": "code",
   "execution_count": null,
   "id": "df33c52f-4aaa-4891-9de0-489304532e49",
   "metadata": {},
   "outputs": [],
   "source": [
    "ad.obs['segmentation_method'].value_counts()"
   ]
  },
  {
   "cell_type": "code",
   "execution_count": null,
   "id": "7d17dcb6-271a-404d-abcd-00312bdcdaf4",
   "metadata": {},
   "outputs": [],
   "source": [
    "sc.pp.calculate_qc_metrics(ad, percent_top=None, log1p=False, inplace=True)\n",
    "sc.pp.filter_cells(ad,min_counts=40)\n",
    "sc.pp.filter_cells(ad,min_genes=15)"
   ]
  },
  {
   "cell_type": "markdown",
   "id": "ccbc6655-d13e-46aa-9c72-aa1d50849a3c",
   "metadata": {},
   "source": [
    "### normalizing and transforming"
   ]
  },
  {
   "cell_type": "code",
   "execution_count": null,
   "id": "20f1e272-2f21-4ef9-aff0-01a6cdff3624",
   "metadata": {},
   "outputs": [],
   "source": [
    "sc.pp.normalize_total(ad, inplace=True,target_sum=100)\n",
    "sc.pp.log1p(ad)\n",
    "#sc.pp.scale(ad, )#max_value=10)"
   ]
  },
  {
   "cell_type": "markdown",
   "id": "9d8577d9-0073-4b80-bf96-7c2379a18960",
   "metadata": {},
   "source": [
    "### pca and neighbors"
   ]
  },
  {
   "cell_type": "code",
   "execution_count": null,
   "id": "377d7924-cf09-4fa3-ad08-05c08566b4e4",
   "metadata": {},
   "outputs": [],
   "source": [
    "plt.rcdefaults()\n",
    "sc.tl.pca(ad)\n",
    "sc.pl.pca_variance_ratio(ad, n_pcs=50, log=True)\n",
    "sc.pp.neighbors(ad, n_neighbors=15, n_pcs=30)"
   ]
  },
  {
   "cell_type": "markdown",
   "id": "2cb8d274-7b09-44eb-a4c4-7685084600dd",
   "metadata": {},
   "source": [
    "### umap"
   ]
  },
  {
   "cell_type": "code",
   "execution_count": null,
   "id": "ec31ae96-3e41-41de-83a9-f3e6e2db7b1e",
   "metadata": {},
   "outputs": [],
   "source": [
    "sc.tl.umap(ad, min_dist=0.1)"
   ]
  },
  {
   "cell_type": "markdown",
   "id": "cd4accc3-6eab-4c75-9f53-264e9436ef5c",
   "metadata": {},
   "source": [
    "### clustering"
   ]
  },
  {
   "cell_type": "code",
   "execution_count": null,
   "id": "8fee0ace-8543-49d9-9b03-2ddc4443bf07",
   "metadata": {},
   "outputs": [],
   "source": [
    "resolutions = [0.5, 1, 1.5 , 2, 2.5]\n",
    "for resolution in resolutions: \n",
    "    print('clustering at resolution '+str(resolution))\n",
    "    sc.tl.leiden(ad, resolution = resolution, key_added = 'leiden_'+str(resolution))\n",
    "    print(\"done\")"
   ]
  },
  {
   "cell_type": "markdown",
   "id": "98c6ff26-2aae-47e2-87ac-b538904ebad9",
   "metadata": {},
   "source": [
    "### write clustered data"
   ]
  },
  {
   "cell_type": "code",
   "execution_count": null,
   "id": "17b27771-0869-45b0-9fa7-95b7acc56938",
   "metadata": {},
   "outputs": [],
   "source": [
    "ad.write('../data/RREAE_5k_clustered.h5ad')"
   ]
  },
  {
   "cell_type": "code",
   "execution_count": null,
   "id": "46988013-e5d0-4aa1-ae0a-79993b878789",
   "metadata": {},
   "outputs": [],
   "source": [
    "plt.rcdefaults()\n",
    "with plt.rc_context({'figure.figsize': (10, 7)}):\n",
    "    sc.pl.umap(ad,color = (\"leiden_2\"),s=3,add_outline=True,legend_loc='on data',legend_fontsize=20,legend_fontoutline=2, ncols= 1, )"
   ]
  },
  {
   "cell_type": "code",
   "execution_count": null,
   "id": "ad0369ee-2292-4f91-92bb-a52c302be27f",
   "metadata": {},
   "outputs": [],
   "source": [
    "plt.rcdefaults()\n",
    "with plt.rc_context({'figure.figsize': (10, 7)}):\n",
    "    sc.pl.umap(ad,color = (\"Serpina3n\"),s=3,add_outline=True,legend_loc='on data',legend_fontsize=20,legend_fontoutline=2, ncols= 1, )"
   ]
  },
  {
   "cell_type": "markdown",
   "id": "05331435-af90-4870-849f-f7092ec223ff",
   "metadata": {},
   "source": [
    "### add spatial information"
   ]
  },
  {
   "cell_type": "code",
   "execution_count": null,
   "id": "a20c8bc4-5b62-484f-94a8-3faeba9d44d4",
   "metadata": {},
   "outputs": [],
   "source": [
    "spatial = np.array(ad.obs[['x_centroid','y_centroid']])\n",
    "ad.obsm['spatial'] = spatial"
   ]
  },
  {
   "cell_type": "markdown",
   "id": "02363271-0c19-4819-9654-7ed3339f008a",
   "metadata": {},
   "source": [
    "### plot clusters on basis of coordinates"
   ]
  },
  {
   "cell_type": "code",
   "execution_count": null,
   "id": "bbabdf7b-d14b-46f1-acd7-a47471fcab47",
   "metadata": {},
   "outputs": [],
   "source": [
    "ad.obs.sample"
   ]
  },
  {
   "cell_type": "code",
   "execution_count": null,
   "id": "f56ede84-c675-40cf-b508-bb8e97069e17",
   "metadata": {
    "scrolled": true
   },
   "outputs": [],
   "source": [
    "for run in ad.obs['grid_label'].unique():\n",
    "    print(run)\n",
    "    ad_int = ad[ad.obs['grid_label'] == run]\n",
    "    with plt.rc_context({'figure.figsize': (20, 10)}):\n",
    "        sc.pl.spatial(ad_int, spot_size=20, color = 'leiden_2')\n",
    "    plt.show()\n",
    "    "
   ]
  },
  {
   "cell_type": "markdown",
   "id": "a63aa474-41e3-4f84-b16d-a243df0e7883",
   "metadata": {},
   "source": [
    "## generate sample specific labels"
   ]
  },
  {
   "cell_type": "code",
   "execution_count": null,
   "id": "3843f701-7257-42d3-9429-1a1c1c807ffd",
   "metadata": {},
   "outputs": [],
   "source": [
    "sample_id = []\n",
    "for grid in ad.obs['grid_label'].unique():\n",
    "    print(grid)\n",
    "    ad_int = ad[ad.obs['grid_label'] == grid]\n",
    "    coords = pd.DataFrame(ad_int.obsm[\"spatial\"], columns=[\"x\", \"y\"])\n",
    "    kmeans = KMeans(n_clusters=3, random_state=0).fit(coords)\n",
    "    ad_int.obs[\"sample_kmeans\"] = [f\"{i}\" for i in kmeans.labels_]\n",
    "    with plt.rc_context({'figure.figsize': (20, 10)}):\n",
    "        sc.pl.spatial(ad_int, spot_size=20, color = 'sample_kmeans')\n",
    "    sample_id.append(ad_int.obs['grid_label'].astype(str) + '_' + ad_int.obs['sample_kmeans'].astype(str))\n",
    "    plt.show()\n",
    "sample_df = pd.concat(sample_id)\n",
    "ad.obs['sample_id'] = sample_df"
   ]
  },
  {
   "cell_type": "code",
   "execution_count": null,
   "id": "8b3e8bfa-64dc-4b72-9b38-279f25f47c70",
   "metadata": {},
   "outputs": [],
   "source": [
    "ad.write('../data/RREAE_5k_clustered_processed.h5ad')"
   ]
  },
  {
   "cell_type": "code",
   "execution_count": null,
   "id": "1fc6ad74-ba25-4e38-936e-08f68d73bfad",
   "metadata": {},
   "outputs": [],
   "source": []
  }
 ],
 "metadata": {
  "kernelspec": {
   "display_name": "Python (squidpy-env)",
   "language": "python",
   "name": "squidpy-env"
  },
  "language_info": {
   "codemirror_mode": {
    "name": "ipython",
    "version": 3
   },
   "file_extension": ".py",
   "mimetype": "text/x-python",
   "name": "python",
   "nbconvert_exporter": "python",
   "pygments_lexer": "ipython3",
   "version": "3.11.13"
  }
 },
 "nbformat": 4,
 "nbformat_minor": 5
}
