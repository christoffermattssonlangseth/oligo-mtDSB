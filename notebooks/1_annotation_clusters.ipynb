{
 "cells": [
  {
   "cell_type": "code",
   "execution_count": null,
   "id": "a172240f-f64d-4c22-9325-1eb14a89c91d",
   "metadata": {},
   "outputs": [],
   "source": [
    "import scanpy as sc"
   ]
  },
  {
   "cell_type": "code",
   "execution_count": null,
   "id": "7f8409f4-bcd2-459b-affb-acad51d82004",
   "metadata": {},
   "outputs": [],
   "source": [
    "adata = sc.read_h5ad('../data/')"
   ]
  },
  {
   "cell_type": "code",
   "execution_count": null,
   "id": "06d72fab-7ae4-4c2e-8fcb-5515bdeae721",
   "metadata": {},
   "outputs": [],
   "source": [
    "\n",
    "# --- Find marker genes per cluster ---\n",
    "sc.tl.rank_genes_groups(adata, groupby=\"clusters\", method=\"t-test\")\n",
    "sc.pl.rank_genes_groups(adata, n_genes=25, sharey=False)\n",
    "\n",
    "# get a tidy table of top markers\n",
    "markers = sc.get.rank_genes_groups_df(adata, group=None)\n",
    "markers.head()"
   ]
  },
  {
   "cell_type": "code",
   "execution_count": null,
   "id": "c56fc364-ddfe-4b40-bc89-6d3430f4fe9a",
   "metadata": {},
   "outputs": [],
   "source": [
    "marker_genes = pd.DataFrame({\n",
    "    group: adata.uns['rank_genes_groups']['names'][group][:5]\n",
    "    for group in adata.uns['rank_genes_groups']['names'].dtype.names\n",
    "})\n",
    "marker_genes.head()\n",
    "#marker_genes.to_csv('../data/broad_markers_leiden0-5.csv')"
   ]
  },
  {
   "cell_type": "code",
   "execution_count": null,
   "id": "c35a35d0-7398-4372-8c16-ff1c48a148e9",
   "metadata": {},
   "outputs": [],
   "source": [
    "from mllmcelltype import annotate_clusters, setup_logging"
   ]
  },
  {
   "cell_type": "code",
   "execution_count": null,
   "id": "29a92df8-1f33-47f7-896d-c28e39446124",
   "metadata": {},
   "outputs": [],
   "source": [
    "from dotenv import load_dotenv\n",
    "import os\n",
    "\n",
    "load_dotenv()  # will read .env into environment\n",
    "api_key = os.getenv(\"../OPENAI_API_KEY\")"
   ]
  },
  {
   "cell_type": "code",
   "execution_count": null,
   "id": "a213f33b-af7c-4a64-b8c2-60a7faef3078",
   "metadata": {},
   "outputs": [],
   "source": [
    "marker_genes = marker_genes.T"
   ]
  },
  {
   "cell_type": "code",
   "execution_count": null,
   "id": "7f60f823-6f36-4e50-b602-293a402f647a",
   "metadata": {},
   "outputs": [],
   "source": [
    "marker_genes = marker_genes.reset_index().rename(columns={'index':'cluster'})"
   ]
  },
  {
   "cell_type": "code",
   "execution_count": null,
   "id": "2cabda48-e46e-4862-b2da-2d3c6f0d2962",
   "metadata": {},
   "outputs": [],
   "source": [
    "marker_genes = marker_genes.set_index(\"cluster\").T.to_dict(\"list\")"
   ]
  },
  {
   "cell_type": "code",
   "execution_count": null,
   "id": "c009b943-89cf-43c5-a29d-bb45cbd4e5c6",
   "metadata": {},
   "outputs": [],
   "source": [
    "import os\n",
    "\n",
    "# Annotate clusters with a single model\n",
    "annotations = annotate_clusters(\n",
    "    marker_genes=marker_genes,  # DataFrame or dictionary of marker genes\n",
    "    species='mouse',               # Organism species\n",
    "    provider='openai',            # LLM provider\n",
    "    model='gpt-4o-mini',               # Specific model\n",
    "    tissue='brain'                #Tissue context (optional but recommended)\n",
    ")\n",
    "\n",
    "# Print annotations\n",
    "for cluster, annotation in annotations.items():\n",
    "    print(f\"Cluster {cluster}: {annotation}\")"
   ]
  }
 ],
 "metadata": {
  "kernelspec": {
   "display_name": "sc",
   "language": "python",
   "name": "sc"
  },
  "language_info": {
   "codemirror_mode": {
    "name": "ipython",
    "version": 3
   },
   "file_extension": ".py",
   "mimetype": "text/x-python",
   "name": "python",
   "nbconvert_exporter": "python",
   "pygments_lexer": "ipython3",
   "version": "3.8.20"
  }
 },
 "nbformat": 4,
 "nbformat_minor": 5
}
