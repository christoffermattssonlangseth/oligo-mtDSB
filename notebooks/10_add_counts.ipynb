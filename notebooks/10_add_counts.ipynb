{
 "cells": [
  {
   "cell_type": "code",
   "execution_count": 1,
   "id": "24386750-83d0-4c95-a13d-fe2ad774f96b",
   "metadata": {},
   "outputs": [],
   "source": [
    "import scanpy as sc"
   ]
  },
  {
   "cell_type": "code",
   "execution_count": 53,
   "id": "3b10bd7c-4a43-4048-aca9-2f61177e6458",
   "metadata": {},
   "outputs": [
    {
     "name": "stderr",
     "output_type": "stream",
     "text": [
      "/Users/christoffer/miniconda3/envs/sc/lib/python3.8/site-packages/anndata/_core/anndata.py:1838: UserWarning: Observation names are not unique. To make them unique, call `.obs_names_make_unique`.\n",
      "  utils.warn_names_duplicates(\"obs\")\n"
     ]
    }
   ],
   "source": [
    "adata = sc.read_h5ad('../data/mtDNA_DSB_5k_clustered_LLM_anno.h5ad')"
   ]
  },
  {
   "cell_type": "code",
   "execution_count": 54,
   "id": "c5723b1f-20de-444d-8926-2cafc04733b7",
   "metadata": {},
   "outputs": [
    {
     "name": "stderr",
     "output_type": "stream",
     "text": [
      "/Users/christoffer/miniconda3/envs/sc/lib/python3.8/site-packages/anndata/_core/anndata.py:1838: UserWarning: Observation names are not unique. To make them unique, call `.obs_names_make_unique`.\n",
      "  utils.warn_names_duplicates(\"obs\")\n"
     ]
    }
   ],
   "source": [
    "adata_raw = sc.read_h5ad('../data/mtDNA_DSB_5k_raw.h5ad')"
   ]
  },
  {
   "cell_type": "code",
   "execution_count": 55,
   "id": "33d73c1a-dd8e-4be9-83b3-c59d54052d7f",
   "metadata": {},
   "outputs": [],
   "source": [
    "adata_raw = adata_raw[adata_raw.obs.index.isin(adata.obs.index)]\n",
    "adata = adata[adata.obs.index.isin(adata_raw.obs.index)]"
   ]
  },
  {
   "cell_type": "code",
   "execution_count": 56,
   "id": "329485ed-144c-4e20-aad4-ce58d52fd506",
   "metadata": {},
   "outputs": [
    {
     "data": {
      "text/plain": [
       "View of AnnData object with n_obs × n_vars = 980476 × 5101\n",
       "    obs: 'x_centroid', 'y_centroid', 'transcript_counts', 'control_probe_counts', 'genomic_control_counts', 'control_codeword_counts', 'unassigned_codeword_counts', 'deprecated_codeword_counts', 'total_counts', 'cell_area', 'nucleus_area', 'nucleus_count', 'segmentation_method', 'run'"
      ]
     },
     "execution_count": 56,
     "metadata": {},
     "output_type": "execute_result"
    }
   ],
   "source": [
    "adata_raw"
   ]
  },
  {
   "cell_type": "code",
   "execution_count": 59,
   "id": "b28ee41d-4af4-4489-9acd-bae9d611a354",
   "metadata": {},
   "outputs": [
    {
     "name": "stderr",
     "output_type": "stream",
     "text": [
      "/Users/christoffer/miniconda3/envs/sc/lib/python3.8/site-packages/anndata/_core/anndata.py:1838: UserWarning: Observation names are not unique. To make them unique, call `.obs_names_make_unique`.\n",
      "  utils.warn_names_duplicates(\"obs\")\n",
      "/Users/christoffer/miniconda3/envs/sc/lib/python3.8/site-packages/anndata/_core/anndata.py:1838: UserWarning: Observation names are not unique. To make them unique, call `.obs_names_make_unique`.\n",
      "  utils.warn_names_duplicates(\"obs\")\n",
      "/Users/christoffer/miniconda3/envs/sc/lib/python3.8/site-packages/anndata/_core/anndata.py:1838: UserWarning: Observation names are not unique. To make them unique, call `.obs_names_make_unique`.\n",
      "  utils.warn_names_duplicates(\"obs\")\n"
     ]
    },
    {
     "name": "stdout",
     "output_type": "stream",
     "text": [
      "dups adata cells: 0 | genes: 0\n",
      "dups raw   cells: 0 | genes: 0\n",
      "Shared cells: 980474  Shared genes: 5101\n",
      "Assigned adata.layers['counts'] with shape: (980474, 5101)\n"
     ]
    }
   ],
   "source": [
    "import numpy as np\n",
    "import scipy.sparse as sp\n",
    "\n",
    "# 1) Make all names unique (both objects)\n",
    "adata.obs_names_make_unique();  adata.var_names_make_unique()\n",
    "adata_raw.obs_names_make_unique();  adata_raw.var_names_make_unique()\n",
    "\n",
    "# Quick sanity: check duplicates (should be empty after the calls above)\n",
    "dup_cells_ad    = adata.obs_names[adata.obs_names.duplicated()]\n",
    "dup_genes_ad    = adata.var_names[adata.var_names.duplicated()]\n",
    "dup_cells_raw   = adata_raw.obs_names[adata_raw.obs_names.duplicated()]\n",
    "dup_genes_raw   = adata_raw.var_names[adata_raw.var_names.duplicated()]\n",
    "print(\"dups adata cells:\", len(dup_cells_ad), \"| genes:\", len(dup_genes_ad))\n",
    "print(\"dups raw   cells:\", len(dup_cells_raw), \"| genes:\", len(dup_genes_raw))\n",
    "\n",
    "# 2) Align to the intersection (shared cells & genes)\n",
    "shared_cells = adata.obs_names.intersection(adata_raw.obs_names)\n",
    "shared_genes = adata.var_names.intersection(adata_raw.var_names)\n",
    "print(f\"Shared cells: {len(shared_cells)}  Shared genes: {len(shared_genes)}\")\n",
    "\n",
    "# Subset 'adata' to the shared indices (preserve 'adata' order by reindex_like)\n",
    "adata = adata[shared_cells, shared_genes].copy()\n",
    "\n",
    "# 3) Build position indexers into adata_raw for those same names\n",
    "row_idx = adata_raw.obs_names.get_indexer(adata.obs_names)\n",
    "col_idx = adata_raw.var_names.get_indexer(adata.var_names)\n",
    "\n",
    "# Ensure all found\n",
    "if (row_idx < 0).any() or (col_idx < 0).any():\n",
    "    missing_cells = list(adata.obs_names[np.where(row_idx < 0)[0]])\n",
    "    missing_genes = list(adata.var_names[np.where(col_idx < 0)[0]])\n",
    "    raise ValueError(f\"Missing in adata_raw — cells: {len(missing_cells)}, genes: {len(missing_genes)}\")\n",
    "\n",
    "# 4) Slice the raw matrix and assign to a layer (shape will now match exactly)\n",
    "rawX = adata_raw.X\n",
    "counts_aligned = rawX[row_idx][:, col_idx] if sp.issparse(rawX) else rawX[row_idx][:, col_idx]\n",
    "adata.layers[\"counts\"] = counts_aligned.copy()  # sparse or dense OK\n",
    "\n",
    "print(\"Assigned adata.layers['counts'] with shape:\", adata.layers[\"counts\"].shape)"
   ]
  },
  {
   "cell_type": "code",
   "execution_count": 62,
   "id": "b77533f6-fd2a-4c7b-895b-7431edd5c1f4",
   "metadata": {},
   "outputs": [],
   "source": [
    "adata.write('../data/mtDNA_DSB_5k_clustered_LLM_anno_with_counts.h5ad')"
   ]
  }
 ],
 "metadata": {
  "kernelspec": {
   "display_name": "sc",
   "language": "python",
   "name": "sc"
  },
  "language_info": {
   "codemirror_mode": {
    "name": "ipython",
    "version": 3
   },
   "file_extension": ".py",
   "mimetype": "text/x-python",
   "name": "python",
   "nbconvert_exporter": "python",
   "pygments_lexer": "ipython3",
   "version": "3.8.20"
  }
 },
 "nbformat": 4,
 "nbformat_minor": 5
}
