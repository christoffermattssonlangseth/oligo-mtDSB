{
 "cells": [
  {
   "cell_type": "code",
   "execution_count": 1,
   "id": "a39ddd4d-2bfb-4088-bf61-9a1fb506671d",
   "metadata": {},
   "outputs": [],
   "source": [
    "import warnings\n",
    "warnings.filterwarnings('ignore')\n",
    "import os\n",
    "import scanpy as sc\n",
    "import pandas as pd\n",
    "import matplotlib.pyplot as plt\n",
    "import numpy as np\n",
    "from sklearn.cluster import KMeans\n",
    "import numpy as np\n",
    "import scanpy as sc\n",
    "from scipy import sparse\n",
    "from sklearn.decomposition import TruncatedSVD\n",
    "from sklearn.preprocessing import StandardScaler\n",
    "from sklearn.neighbors import NearestNeighbors\n",
    "import re\n"
   ]
  },
  {
   "cell_type": "code",
   "execution_count": 2,
   "id": "4083dd49-17b5-4a34-8335-3060a81c1394",
   "metadata": {},
   "outputs": [],
   "source": [
    "adata_RRmap = sc.read_h5ad('../data/RREAE_5k_raw.h5ad')\n",
    "adata_EAE5K = sc.read_h5ad('../data/eae_5k_raw.h5ad')\n",
    "adata_mtDSB = sc.read_h5ad('../data/mtDNA_DSB_5k_raw.h5ad')"
   ]
  },
  {
   "cell_type": "code",
   "execution_count": 3,
   "id": "d80e5647-e27a-4423-ada6-e72e2af7d4c6",
   "metadata": {},
   "outputs": [],
   "source": [
    "adata_EAE5K.obs[\"sample_extracted\"] = adata_EAE5K.obs[\"run\"].str.extract(r\"__(G\\d+_L\\d+)__\")\n",
    "adata_RRmap.obs[\"sample_extracted\"] = adata_RRmap.obs[\"sample\"].str.extract(r\"__(S\\d+-[A-Za-z]+\\d+)__\")\n",
    "adata_mtDSB.obs[\"sample_extracted\"] = adata_mtDSB.obs[\"run\"].str.extract(r\"__(RB\\d+)__\")"
   ]
  },
  {
   "cell_type": "code",
   "execution_count": 7,
   "id": "8ad4b8d1-68e1-4311-9f7b-06550f6987f0",
   "metadata": {},
   "outputs": [],
   "source": [
    "adata_mtDSB.obs_names_make_unique()\n",
    "adata_RRmap.obs_names_make_unique()\n",
    "adata_EAE5K.obs_names_make_unique()"
   ]
  },
  {
   "cell_type": "code",
   "execution_count": 11,
   "id": "05efd824-ad62-46b6-938a-127990922fa8",
   "metadata": {},
   "outputs": [],
   "source": [
    "adata_mtDSB.obs['project'] = 'mtDSB'\n",
    "adata_RRmap.obs['project'] = 'RREAE'\n",
    "adata_EAE5K.obs['project'] = 'Chronic EAE'\n",
    "ad = sc.concat(\n",
    "    {\n",
    "        \"RRmap\": adata_RRmap,\n",
    "        \"EAE5K\": adata_EAE5K,\n",
    "        \"mtDSB\": adata_mtDSB,\n",
    "    },\n",
    "    label=\"dataset\",       # new column in .obs\n",
    "    keys=None,             # use dict keys above\n",
    "    index_unique=\"-\",      # make indices unique: barcode-dataset\n",
    "    join=\"outer\",          # keep all genes (union)\n",
    "    merge=\"same\"           # only merge .obs/.var columns that are identical\n",
    ")"
   ]
  },
  {
   "cell_type": "code",
   "execution_count": 12,
   "id": "7233b355-1b3b-43e9-ad85-340fd4f4379a",
   "metadata": {},
   "outputs": [],
   "source": [
    "ad.write('../data/integrated_2.h5ad')"
   ]
  },
  {
   "cell_type": "code",
   "execution_count": 13,
   "id": "738788e0-151f-4e56-9354-beac48f579ae",
   "metadata": {},
   "outputs": [],
   "source": [
    "# 2) (Optional) light filtering\n",
    "sc.pp.filter_cells(ad, min_counts=40)      # tune if needed\n",
    "sc.pp.filter_genes(ad, min_cells=5)\n",
    "\n",
    "# 3) Normalize & log1p (sparse-friendly in modern Scanpy)\n",
    "sc.pp.normalize_total(ad, target_sum=1e4)\n",
    "sc.pp.log1p(ad)\n",
    "\n",
    "# 4) No scaling (keeps sparsity). Compute PCs via TruncatedSVD (no centering; OK for huge sparse)\n",
    "n_comps = 50\n",
    "svd = TruncatedSVD(n_components=n_comps, random_state=0)\n",
    "X_pca = svd.fit_transform(ad.X)  # returns dense (cells × PCs), but only 50 dims\n",
    "ad.obsm[\"X_pca\"] = X_pca.astype(np.float32)\n",
    "ad.uns[\"pca\"] = {\n",
    "    \"variance_ratio\": svd.explained_variance_ratio_.astype(np.float32),\n",
    "    \"variance\": (svd.explained_variance_ratio_ * svd.explained_variance_ratio_.sum()).astype(np.float32)  # placeholder\n",
    "}\n",
    "\n",
    "# 5) Subsample for graph building\n",
    "rng = np.random.default_rng(0)\n",
    "sub_n = min(200_000, ad.n_obs)  # adjust if you have more/less RAM\n",
    "sub_idx = rng.choice(ad.n_obs, size=sub_n, replace=False)\n",
    "sub_idx.sort()\n",
    "mask_sub = np.zeros(ad.n_obs, dtype=bool)\n",
    "mask_sub[sub_idx] = True\n",
    "\n",
    "# 6) Neighbors + Leiden on the subsample only (fast & RAM-light)\n",
    "ad_sub = ad[mask_sub].copy()\n",
    "ad_sub.obsm[\"X_pca\"] = ad.obsm[\"X_pca\"][mask_sub]\n",
    "sc.pp.neighbors(ad_sub, use_rep=\"X_pca\", n_neighbors=30, method=\"umap\")"
   ]
  },
  {
   "cell_type": "code",
   "execution_count": null,
   "id": "b104b207-21dd-472e-be89-cf8c479e9d86",
   "metadata": {},
   "outputs": [],
   "source": [
    "sc.tl.leiden(ad_sub, resolution=1.5, key_added=\"leiden_sub\")\n",
    "\n",
    "# 7) Map all cells to the subsample: label transfer via kNN in PCA space\n",
    "#    Fit index on subsample PCs and query all cells (streamable, RAM-friendly)\n",
    "nbrs = NearestNeighbors(n_neighbors=5, algorithm=\"auto\", n_jobs=-1)\n",
    "nbrs.fit(ad_sub.obsm[\"X_pca\"])\n",
    "\n",
    "# For very tight memory, query in chunks\n",
    "batch = 200_000\n",
    "labels_sub = ad_sub.obs[\"leiden_sub\"].to_numpy()\n",
    "all_labels = np.empty(ad.n_obs, dtype=labels_sub.dtype)\n",
    "\n",
    "for start in range(0, ad.n_obs, batch):\n",
    "    stop = min(start + batch, ad.n_obs)\n",
    "    dists, inds = nbrs.kneighbors(ad.obsm[\"X_pca\"][start:stop])\n",
    "    # majority vote from nearest subsample neighbors\n",
    "    voted = np.array([\n",
    "        np.argmax(np.bincount(labels_sub[inds[i]].astype(int)))\n",
    "        for i in range(inds.shape[0])\n",
    "    ], dtype=labels_sub.dtype)\n",
    "    all_labels[start:stop] = voted\n",
    "\n",
    "ad.obs[\"leiden\"] = all_labels  # cluster for ALL 1.7M cells\n",
    "\n",
    "# 8) (Optional) UMAP on subsample only, then embed the rest by kNN-averaging\n",
    "sc.tl.umap(ad_sub, min_dist=0.3, spread=1.0)\n",
    "ad_sub.obsm[\"X_umap\"] = ad_sub.obsm[\"X_umap\"].astype(np.float32)\n",
    "\n",
    "# project full set to UMAP by averaging neighbors' coordinates\n",
    "umap_full = np.empty((ad.n_obs, 2), dtype=np.float32)\n",
    "for start in range(0, ad.n_obs, batch):\n",
    "    stop = min(start + batch, ad.n_obs)\n",
    "    _, inds = nbrs.kneighbors(ad.obsm[\"X_pca\"][start:stop])\n",
    "    umap_full[start:stop] = ad_sub.obsm[\"X_umap\"][inds].mean(axis=1)\n",
    "ad.obsm[\"X_umap\"] = umap_full"
   ]
  },
  {
   "cell_type": "code",
   "execution_count": null,
   "id": "db85d034-18e1-4ede-a576-7752695c9a5e",
   "metadata": {},
   "outputs": [],
   "source": [
    "import leidenalg"
   ]
  },
  {
   "cell_type": "code",
   "execution_count": null,
   "id": "b091a007-5b6a-405d-a6e1-cb7358400cfc",
   "metadata": {},
   "outputs": [],
   "source": [
    "ad.obs.leiden = ad.obs.leiden.astype(str)"
   ]
  },
  {
   "cell_type": "code",
   "execution_count": null,
   "id": "60244382-d09c-4b17-9605-efadd999b49a",
   "metadata": {},
   "outputs": [],
   "source": [
    "ad.write('../data/integrated_clustered.h5ad')"
   ]
  },
  {
   "cell_type": "code",
   "execution_count": null,
   "id": "02a297fc-6bbc-47cb-a649-8a04cf7716e6",
   "metadata": {},
   "outputs": [],
   "source": [
    "spatial = np.array(ad.obs[['x_centroid','y_centroid']])\n",
    "ad.obsm['spatial'] = spatial"
   ]
  },
  {
   "cell_type": "code",
   "execution_count": null,
   "id": "b19fdb8a-c532-45f8-987f-5bf7dea799cd",
   "metadata": {},
   "outputs": [],
   "source": [
    "sc.pl.umap(ad, color = 'leiden')"
   ]
  },
  {
   "cell_type": "code",
   "execution_count": null,
   "id": "5fbdea81-6a35-4da1-8a84-ff0ee23ff153",
   "metadata": {},
   "outputs": [],
   "source": [
    "# --- Find marker genes per cluster ---\n",
    "sc.tl.rank_genes_groups(ad, groupby=\"leiden\", method=\"t-test\")\n",
    "sc.pl.rank_genes_groups(ad, n_genes=25, sharey=False)\n",
    "\n",
    "# get a tidy table of top markers\n",
    "markers = sc.get.rank_genes_groups_df(ad, group=None)\n",
    "markers.head()"
   ]
  },
  {
   "cell_type": "code",
   "execution_count": null,
   "id": "7d2bd9c4-378c-4690-8201-c16659f07dea",
   "metadata": {},
   "outputs": [],
   "source": [
    "marker_genes = pd.DataFrame({\n",
    "    group: ad.uns['rank_genes_groups']['names'][group][:10]\n",
    "    for group in ad.uns['rank_genes_groups']['names'].dtype.names\n",
    "})\n"
   ]
  },
  {
   "cell_type": "code",
   "execution_count": null,
   "id": "06458579-1d4d-448c-bcfc-b70a2fa6d9ba",
   "metadata": {},
   "outputs": [],
   "source": [
    "for col in marker_genes.columns: \n",
    "    print(col)\n",
    "    genes = marker_genes[col].tolist()\n",
    "    print(\" \".join(genes))\n",
    "    print(' ')"
   ]
  },
  {
   "cell_type": "code",
   "execution_count": null,
   "id": "67fa102b-2e08-41e6-be6d-738a24b4b269",
   "metadata": {},
   "outputs": [],
   "source": [
    "ad.obs"
   ]
  },
  {
   "cell_type": "code",
   "execution_count": null,
   "id": "83571c90-922b-4882-be47-c7fbf13ca7c5",
   "metadata": {},
   "outputs": [],
   "source": []
  },
  {
   "cell_type": "code",
   "execution_count": null,
   "id": "e1c51e4b-40c8-4aae-ba76-4261727cb401",
   "metadata": {
    "scrolled": true
   },
   "outputs": [],
   "source": [
    "ad_mtDSB = ad[ad.obs.project == 'mtDSB']\n",
    "for run in ad_mtDSB.obs['sample_extracted'].unique():\n",
    "    print(run)\n",
    "    ad_int = ad_mtDSB[ad_mtDSB.obs['sample_extracted'] == run]\n",
    "    with plt.rc_context({'figure.figsize': (20, 10)}):\n",
    "        sc.pl.spatial(ad_int, spot_size=15, color = 'leiden')\n",
    "    plt.show()\n",
    "    "
   ]
  },
  {
   "cell_type": "code",
   "execution_count": null,
   "id": "40983910-f389-4940-8d8a-37a927ef22fd",
   "metadata": {},
   "outputs": [],
   "source": [
    "ad.obs.project.unique()"
   ]
  },
  {
   "cell_type": "code",
   "execution_count": null,
   "id": "069aefac-337e-4b66-9f48-0cb032b172a7",
   "metadata": {},
   "outputs": [],
   "source": [
    "ad_RR.obs['sample_extracted'].unique()"
   ]
  },
  {
   "cell_type": "code",
   "execution_count": null,
   "id": "7c9e8d51-bc25-42b7-bdc3-350d863d4402",
   "metadata": {},
   "outputs": [],
   "source": [
    "ad_RR = ad[ad.obs.project == 'RREAE']\n",
    "for run in ad_RR.obs['sample_extracted'].unique():\n",
    "    print(run)\n",
    "    ad_int = ad_RR[ad_RR.obs['sample_extracted'] == run]\n",
    "    with plt.rc_context({'figure.figsize': (20, 10)}):\n",
    "        sc.pl.spatial(ad_int, spot_size=15, color = 'leiden')\n",
    "    plt.show()\n",
    "    "
   ]
  },
  {
   "cell_type": "code",
   "execution_count": null,
   "id": "4084e609-c195-487b-bca1-3acc8bb2d538",
   "metadata": {},
   "outputs": [],
   "source": []
  }
 ],
 "metadata": {
  "kernelspec": {
   "display_name": "Python (tf_sonoma_clean)",
   "language": "python",
   "name": "tf_sonoma_clean"
  },
  "language_info": {
   "codemirror_mode": {
    "name": "ipython",
    "version": 3
   },
   "file_extension": ".py",
   "mimetype": "text/x-python",
   "name": "python",
   "nbconvert_exporter": "python",
   "pygments_lexer": "ipython3",
   "version": "3.10.18"
  }
 },
 "nbformat": 4,
 "nbformat_minor": 5
}
