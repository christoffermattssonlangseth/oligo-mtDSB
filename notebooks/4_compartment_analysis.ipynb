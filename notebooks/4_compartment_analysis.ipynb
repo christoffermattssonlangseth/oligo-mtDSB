{
 "cells": [
  {
   "cell_type": "markdown",
   "id": "1ec6eab8-f554-42e3-a6e3-4ab9bde229e8",
   "metadata": {},
   "source": [
    "# spatial neighbourhoods"
   ]
  },
  {
   "cell_type": "code",
   "execution_count": 1,
   "id": "648640f4-932e-497c-b864-f943b1150eaf",
   "metadata": {},
   "outputs": [],
   "source": [
    "import warnings\n",
    "warnings.filterwarnings('ignore')\n",
    "import scanpy as sc\n",
    "import matplotlib.pyplot as plt \n",
    "import numpy as np\n",
    "def spatial_neigbourshoods(anndata,\n",
    "                           cluster_label = 'leiden_0.5',\n",
    "                           max_distance_allowed = 200):\n",
    "    \n",
    "    import numpy as np\n",
    "    import scanpy as sc\n",
    "    import pandas as pd\n",
    "    from sklearn.metrics.pairwise import euclidean_distances\n",
    "    \n",
    "    distances_input=np.array([anndata.obs['x_centroid'],anndata.obs['y_centroid']])\n",
    "    din=distances_input.transpose()\n",
    "    distances=euclidean_distances(din, din)\n",
    "    dist_df=pd.DataFrame(distances)\n",
    "    max_distance_allowed=max_distance_allowed\n",
    "    dist_binary=((dist_df<max_distance_allowed)*1)*((dist_df!=\n",
    "                                                     0)*1)\n",
    "    np.sum(np.sum(dist_binary))\n",
    "    dist_binary['name']=list(anndata.obs[cluster_label])\n",
    "    distbinsum=dist_binary.groupby('name').sum()\n",
    "    adata=sc.AnnData(distbinsum.transpose())\n",
    "    adata.obs=anndata.obs\n",
    "\n",
    "    return adata\n"
   ]
  },
  {
   "cell_type": "code",
   "execution_count": 2,
   "id": "6feb892e-eb12-417e-9c11-4497583ada3f",
   "metadata": {},
   "outputs": [],
   "source": [
    "adata = sc.read_h5ad('../data/mtDNA_DSB_5k_clustered_LLM_anno.h5ad')"
   ]
  },
  {
   "cell_type": "markdown",
   "id": "6bd807ec-7796-4b9d-8b63-607c9a6fd207",
   "metadata": {},
   "source": [
    "# run spatial neigbourshoods"
   ]
  },
  {
   "cell_type": "code",
   "execution_count": 8,
   "id": "842360b3-60a4-4431-a687-35ab4f79d712",
   "metadata": {},
   "outputs": [],
   "source": [
    "my_runs = []  # empty list\n",
    "\n",
    "my_runs.append(adata.obs['run'].unique()[0])"
   ]
  },
  {
   "cell_type": "code",
   "execution_count": 9,
   "id": "6168a9d9-f2b6-4912-97e2-c978fecf2229",
   "metadata": {},
   "outputs": [
    {
     "data": {
      "text/plain": [
       "['output-XETG00045__0060539__RB4282__20250917__105852']"
      ]
     },
     "execution_count": 9,
     "metadata": {},
     "output_type": "execute_result"
    }
   ],
   "source": [
    "my_runs"
   ]
  },
  {
   "cell_type": "code",
   "execution_count": null,
   "id": "9a565161-b0a5-48c9-9275-bd5dee0140ee",
   "metadata": {},
   "outputs": [
    {
     "name": "stdout",
     "output_type": "stream",
     "text": [
      "output-XETG00045__0060539__RB4282__20250917__105852\n"
     ]
    }
   ],
   "source": [
    "ad_sn_list = []\n",
    "for i in my_runs:\n",
    "    print(i)\n",
    "    ad_sub_sample = adata[adata.obs['run'] == i]\n",
    "    ad_sn = spatial_neigbourshoods(anndata = ad_sub_sample, cluster_label = 'leiden_1',max_distance_allowed = 100) #50 #600 #200#550\n",
    "    ad_sn_list.append(ad_sn)"
   ]
  },
  {
   "cell_type": "code",
   "execution_count": null,
   "id": "a37e61a7-30f4-4a3f-a1fa-cf4dd620d6f7",
   "metadata": {},
   "outputs": [],
   "source": [
    "ad_sn = sc.concat(ad_sn_list, join = 'outer', fill_value = 0)"
   ]
  },
  {
   "cell_type": "code",
   "execution_count": null,
   "id": "b0d5b9e8-fe2b-49f6-92b0-2aa3aa485e92",
   "metadata": {},
   "outputs": [],
   "source": [
    "spatial = np.array(ad_sn.obs[['x_centroid','y_centroid']])\n",
    "ad_sn.obsm['spatial'] = spatial"
   ]
  },
  {
   "cell_type": "code",
   "execution_count": null,
   "id": "ef93d28e-2ad8-4c94-b3cc-18233cb17f2b",
   "metadata": {},
   "outputs": [],
   "source": [
    "sc.pp.neighbors(ad_sn, n_neighbors=10)\n",
    "sc.tl.umap(ad_sn,min_dist=0.2)"
   ]
  },
  {
   "cell_type": "code",
   "execution_count": null,
   "id": "05dfed89-6217-41ac-9b41-4a35b879a02f",
   "metadata": {},
   "outputs": [],
   "source": [
    "for i in [0.01,  0.04, 0.06,0.1,0.5]: \n",
    "    key = 'local_neighborhood_'+str(i)\n",
    "    if key in ad_sn.obs.columns: \n",
    "        sc.pl.umap(ad_sn,color=[key],  s = 10)#,save='UMAP_10X_colors.svg')\n",
    "    else: \n",
    "        sc.tl.leiden(ad_sn,resolution=i, key_added = key)\n",
    "        sc.pl.umap(ad_sn,color=[key],  s = 10)#,save='UMAP_10X_colors.svg')"
   ]
  },
  {
   "cell_type": "code",
   "execution_count": null,
   "id": "11587c71-22a1-4415-8f33-4fd69bbfb0b0",
   "metadata": {},
   "outputs": [],
   "source": [
    "for run in ad_sn.obs['grid_label'].unique():\n",
    "    print(run)\n",
    "    ad_int = ad_sn[ad_sn.obs['grid_label'] == run]\n",
    "    print(ad_int.obs.course.unique())\n",
    "\n",
    "    with plt.rc_context({'figure.figsize': (20, 10)}):\n",
    "        sc.pl.spatial(ad_int, spot_size=15, color = 'local_neighborhood_0.1')\n",
    "    plt.show()\n",
    "    "
   ]
  },
  {
   "cell_type": "code",
   "execution_count": null,
   "id": "dddc073a-ac34-4287-9e5e-a0e7d89dde38",
   "metadata": {},
   "outputs": [],
   "source": [
    "import scanpy as sc\n",
    "import pandas as pd\n",
    "import scipy\n",
    "import matplotlib.pyplot as plt\n",
    "\n",
    "def post_merge(df, labels, post_merge_cutoff, linkage_method='single', \n",
    "               linkage_metric='correlation', fcluster_criterion='distance', name='', save=False):\n",
    "    Z = scipy.cluster.hierarchy.linkage(df.T, method=linkage_method, metric=linkage_metric)\n",
    "    merged_labels_short = scipy.cluster.hierarchy.fcluster(Z, post_merge_cutoff, criterion=fcluster_criterion)\n",
    "\n",
    "    # map cluster name to merged label\n",
    "    label_conversion = dict(zip(df.columns, merged_labels_short))\n",
    "    new_labels = [label_conversion[i] for i in labels]\n",
    "\n",
    "    # Plot\n",
    "    fig, ax = plt.subplots(figsize=(20, 10))\n",
    "    scipy.cluster.hierarchy.dendrogram(Z, labels=df.columns, color_threshold=post_merge_cutoff, ax=ax)\n",
    "    ax.hlines(post_merge_cutoff, 0, ax.get_xlim()[1])\n",
    "    ax.set_title('Merged clusters')\n",
    "    ax.set_ylabel(linkage_metric, fontsize=20)\n",
    "    ax.set_xlabel('Pre-merge cluster labels', fontsize=20)\n",
    "    ax.tick_params(axis=\"x\", labelrotation=90, labelsize=10)  # <-- rotate tick labels\n",
    "    plt.show()\n",
    "    if save:\n",
    "        fig.savefig(f\"{name}.svg\", dpi=500)\n",
    "    \n",
    "    return new_labels"
   ]
  },
  {
   "cell_type": "code",
   "execution_count": null,
   "id": "b7850afd-a40c-4a33-856c-cc8f3ffd8805",
   "metadata": {},
   "outputs": [],
   "source": [
    "# Compute cluster-level mean expression\n",
    "cluster_key = 'local_neighborhood_0.1'\n",
    "expr = pd.DataFrame(ad_sn.X, index=ad_sn.obs_names, columns=ad_sn.var_names)\n",
    "cluster_means = expr.groupby(ad_sn.obs[cluster_key]).mean().T  # genes x clusters\n",
    "\n",
    "# Run post-merge\n",
    "merged_labels = post_merge(cluster_means, labels=ad_sn.obs[cluster_key].tolist(),\n",
    "                           post_merge_cutoff=0.18,\n",
    "                           linkage_metric='correlation',\n",
    "                           linkage_method='average',\n",
    "                           name='SupFig3Dend',\n",
    "                           save=False)\n",
    "\n",
    "# Add new merged label to AnnData object\n",
    "ad_sn.obs['merged_cluster'] = merged_labels\n",
    "ad_sn.obs['merged_cluster'] = ad_sn.obs['merged_cluster'].astype(str)"
   ]
  },
  {
   "cell_type": "code",
   "execution_count": null,
   "id": "12a456c3-5bd2-4610-99b9-5690f206ad13",
   "metadata": {},
   "outputs": [],
   "source": [
    "sc.pl.umap(ad_sn, color='merged_cluster')"
   ]
  },
  {
   "cell_type": "code",
   "execution_count": null,
   "id": "e018dad0-c510-4824-9b19-f05b7c8db0f4",
   "metadata": {},
   "outputs": [],
   "source": [
    "for run in ad_sn.obs['grid_label'].unique():\n",
    "    print(run)\n",
    "    ad_int = ad_sn[ad_sn.obs['grid_label'] == run]\n",
    "    print(ad_int.obs.course.unique())\n",
    "\n",
    "    with plt.rc_context({'figure.figsize': (20, 10)}):\n",
    "        sc.pl.spatial(ad_int, spot_size=15, color = 'merged_cluster')\n",
    "    plt.show()\n",
    "    "
   ]
  },
  {
   "cell_type": "code",
   "execution_count": null,
   "id": "b8a22ac7-5d8f-439b-b059-be7a4848adc1",
   "metadata": {},
   "outputs": [],
   "source": [
    "sc.tl.rank_genes_groups(ad_sn, groupby='merged_cluster', method='wilcoxon')\n",
    "# See top 5 marker genes per cluster\n",
    "sc.pl.rank_genes_groups(ad_sn, n_genes=25, sharey=False)\n",
    "\n",
    "marker_genes = pd.DataFrame({\n",
    "    group: ad_sn.uns['rank_genes_groups']['names'][group][:10]\n",
    "    for group in ad_sn.uns['rank_genes_groups']['names'].dtype.names\n",
    "})\n",
    "marker_genes.head()\n",
    "#marker_genes.to_csv('../data/broad_markers_leiden0-5.csv')\n",
    "for col in marker_genes.columns: \n",
    "    print(col)\n",
    "    genes = marker_genes[col].tolist()\n",
    "    print(\" \".join(genes))\n",
    "    print(' ')"
   ]
  },
  {
   "cell_type": "code",
   "execution_count": null,
   "id": "590f1bcc-dec3-4594-b102-ff279900c6d6",
   "metadata": {},
   "outputs": [],
   "source": [
    "dict(zip(ad_sn.obs[\"merged_cluster\"].cat.categories, ad_sn.obs[\"merged_cluster\"].cat.categories))"
   ]
  },
  {
   "cell_type": "code",
   "execution_count": null,
   "id": "1e263771-f901-4e8e-b103-d8bc9d312732",
   "metadata": {},
   "outputs": [],
   "source": [
    "anno = {'1': 'Lesion I',\n",
    " '2': 'Lesion II',\n",
    " '3': 'Lesion III',\n",
    " '4': 'Lesion IV',\n",
    " '5': 'Lesion V',\n",
    " '6': 'Lesion VI',\n",
    " '7': 'Lesion VII',\n",
    " '8': 'Lesion VIII',\n",
    " '9': 'Grey matter',\n",
    " '10': 'Dorsal horn',\n",
    " '11': 'White matter',\n",
    " '12': 'Grey matter',\n",
    " '13': 'Grey matter',\n",
    "        \n",
    " '14': 'Central canal',\n",
    " '15': 'Vasculature',\n",
    " '16': 'Dorsal root ganglion',\n",
    " '17': 'Dorsal root ganglion',\n",
    "\n",
    " }"
   ]
  },
  {
   "cell_type": "code",
   "execution_count": null,
   "id": "565083fe-e42c-446a-839b-88292d14f587",
   "metadata": {},
   "outputs": [],
   "source": [
    "ad_sn.obs['compartment'] = ad_sn.obs[\"merged_cluster\"].map(anno)"
   ]
  },
  {
   "cell_type": "code",
   "execution_count": null,
   "id": "a1178653-0ef4-4c75-adc0-0f6fba6a0823",
   "metadata": {},
   "outputs": [],
   "source": [
    "sc.pl.umap(ad_sn, color='compartment')"
   ]
  },
  {
   "cell_type": "code",
   "execution_count": null,
   "id": "43a7c8be-11c4-4f1d-a4cf-fa254c8084a5",
   "metadata": {},
   "outputs": [],
   "source": [
    "import scanpy as sc"
   ]
  },
  {
   "cell_type": "code",
   "execution_count": null,
   "id": "ce150c96-7650-4532-b8d5-0c6502e0fb26",
   "metadata": {},
   "outputs": [],
   "source": [
    "for run in ad_sn.obs['sample_id'].unique():\n",
    "    print(run)\n",
    "    ad_int = ad_sn[ad_sn.obs['sample_id'] == run]\n",
    "    print(ad_int.obs.course.unique())\n",
    "\n",
    "    with plt.rc_context({'figure.figsize': (20, 10)}):\n",
    "        sc.pl.spatial(ad_int, spot_size=20, color = 'compartment')\n",
    "    plt.show()\n",
    "    "
   ]
  },
  {
   "cell_type": "code",
   "execution_count": null,
   "id": "b7cf9447-af1c-418a-9947-46e607f70158",
   "metadata": {},
   "outputs": [],
   "source": [
    "sc.pl.umap(ad_sn, color='compartment')"
   ]
  },
  {
   "cell_type": "code",
   "execution_count": null,
   "id": "c0cfd58a-12cf-49d4-bbbc-14f0078f347e",
   "metadata": {},
   "outputs": [],
   "source": [
    "import scanpy as sc"
   ]
  },
  {
   "cell_type": "code",
   "execution_count": null,
   "id": "dd638b2b-1bc7-46c5-926a-09880114b8ab",
   "metadata": {},
   "outputs": [],
   "source": [
    "for run in ad_sn.obs['sample_id'].unique():\n",
    "    print(run)\n",
    "    ad_int = ad_sn[ad_sn.obs['sample_id'] == run]\n",
    "    print(ad_int.obs.course.unique())\n",
    "\n",
    "    with plt.rc_context({'figure.figsize': (20, 10)}):\n",
    "        sc.pl.spatial(ad_int, spot_size=20, color = 'compartment')\n",
    "    plt.show()\n",
    "    "
   ]
  },
  {
   "cell_type": "code",
   "execution_count": null,
   "id": "d972a4e9-a1a0-4ed4-a630-99348140c53a",
   "metadata": {},
   "outputs": [],
   "source": [
    "# Compute cluster-level mean expression\n",
    "cluster_key = 'compartment'\n",
    "expr = pd.DataFrame(ad_sn.X, index=ad_sn.obs_names, columns=ad_sn.var_names)\n",
    "cluster_means = expr.groupby(ad_sn.obs[cluster_key]).mean().T  # genes x clusters\n",
    "\n",
    "# Run post-merge\n",
    "merged_labels = post_merge(cluster_means, labels=ad_sn.obs[cluster_key].tolist(),\n",
    "                           post_merge_cutoff=0.0,\n",
    "                           linkage_metric='correlation',\n",
    "                           linkage_method='average',\n",
    "                           name='SupFig3Dend',\n",
    "                           save=False)\n",
    "\n",
    "# Add new merged label to AnnData object\n",
    "ad_sn.obs['merged_cluster'] = merged_labels\n",
    "ad_sn.obs['merged_cluster'] = ad_sn.obs['merged_cluster'].astype(str)"
   ]
  },
  {
   "cell_type": "code",
   "execution_count": null,
   "id": "50249a34-e3aa-454d-922c-1812ecef60ac",
   "metadata": {},
   "outputs": [],
   "source": [
    "\n",
    "sc.pl.umap(ad_sn, color='compartment')"
   ]
  },
  {
   "cell_type": "code",
   "execution_count": null,
   "id": "689ea61f-5bd7-460f-97af-21022372d2c4",
   "metadata": {},
   "outputs": [],
   "source": [
    "obs_key = \"compartment\"\n",
    "\n",
    "# categories and their colors\n",
    "cats = ad_sn.obs[obs_key].cat.categories\n",
    "cols = ad_sn.uns[f\"{obs_key}_colors\"]\n",
    "\n",
    "compartment_palette = dict(zip(cats, cols))"
   ]
  },
  {
   "cell_type": "code",
   "execution_count": null,
   "id": "b47e22b2-f80f-4e5e-bc42-29da0b4a9ec4",
   "metadata": {},
   "outputs": [],
   "source": [
    "sc.tl.rank_genes_groups(ad_sn, groupby='compartment', method='wilcoxon')\n",
    "# See top 5 marker genes per cluster\n",
    "sc.pl.rank_genes_groups(ad_sn, n_genes=25, sharey=False)\n",
    "\n",
    "marker_genes = pd.DataFrame({\n",
    "    group: ad_sn.uns['rank_genes_groups']['names'][group][:10]\n",
    "    for group in ad_sn.uns['rank_genes_groups']['names'].dtype.names\n",
    "})\n",
    "marker_genes.head()\n",
    "#marker_genes.to_csv('../data/broad_markers_leiden0-5.csv')\n",
    "for col in marker_genes.columns: \n",
    "    print(col)\n",
    "    genes = marker_genes[col].tolist()\n",
    "    print(\" \".join(genes))\n",
    "    print(' ')"
   ]
  },
  {
   "cell_type": "code",
   "execution_count": null,
   "id": "8078ce99-e053-41dc-959a-dca1592e415f",
   "metadata": {},
   "outputs": [],
   "source": [
    "import pandas as pd\n",
    "\n",
    "# contingency table: counts of cells per (course, merged_cluster)\n",
    "comp = pd.crosstab(ad_sn.obs[\"course\"], ad_sn.obs[\"compartment\"])\n",
    "\n",
    "# convert to fractions per course\n",
    "comp_frac = comp.div(comp.sum(axis=1), axis=0)\n",
    "\n",
    "print(comp.head())       # absolute counts\n",
    "print(comp_frac.head())  # relative composition"
   ]
  },
  {
   "cell_type": "code",
   "execution_count": null,
   "id": "c4bf196b-64aa-470d-ac55-a33cc7bb3ec4",
   "metadata": {},
   "outputs": [],
   "source": [
    "palette = compartment_palette  # extracted from adata\n",
    "cols = comp_frac.columns.tolist()\n",
    "\n",
    "missing = [c for c in cols if c not in palette]\n",
    "if missing:\n",
    "    print(\"No color for:\", missing)\n",
    "\n",
    "colors = [palette.get(c, \"#BBBBBB\") for c in cols]  # fallback grey\n",
    "\n",
    "ax = comp_frac.plot(\n",
    "    kind=\"bar\", stacked=True, figsize=(10, 6),\n",
    "    color=colors, edgecolor=\"none\"\n",
    ")\n",
    "ax.set_ylabel(\"Fraction of cells\")\n",
    "ax.set_title(\"Compartment composition across courses\")\n",
    "ax.legend(title=\"Compartment\", bbox_to_anchor=(1.02, 1), loc=\"upper left\")\n",
    "plt.tight_layout()\n",
    "plt.show()"
   ]
  },
  {
   "cell_type": "code",
   "execution_count": null,
   "id": "531d07de-5c05-4222-bee5-d599533c421e",
   "metadata": {},
   "outputs": [],
   "source": [
    "MODELS = {'MOG': {'baseline': 'MOG CFA',\n",
    "  'courses': ['non symptomatic',\n",
    "   'early onset',\n",
    "   'chronic peak',\n",
    "   'chronic long']},\n",
    " 'PLP': {'baseline': 'PLP CFA',\n",
    "  'courses': ['onset I',\n",
    "   'onset II',\n",
    "   'peak I',\n",
    "   'monophasic',\n",
    "   'remitt I',\n",
    "   'peak II',\n",
    "   'remitt II',\n",
    "   'peak III']}}\n",
    "\n"
   ]
  },
  {
   "cell_type": "code",
   "execution_count": null,
   "id": "6b25c987-1783-4c2f-a1b4-22af4f6b06ba",
   "metadata": {},
   "outputs": [],
   "source": [
    "import matplotlib.pyplot as plt\n",
    "\n",
    "# define which compartments to keep\n",
    "lesion_cols = [c for c in comp_frac.columns if c.startswith(\"Lesion\")]\n",
    "\n",
    "def plot_lesion_dynamics_by_model(comp_frac, MODELS, palette):\n",
    "    n_models = len(MODELS)\n",
    "    fig, axes = plt.subplots(1, n_models, figsize=(6*n_models, 5), sharey=True)\n",
    "    if n_models == 1:\n",
    "        axes = [axes]\n",
    "\n",
    "    for ax, (model, cfg) in zip(axes, MODELS.items()):\n",
    "        # order timepoints for this model\n",
    "        time_order = [cfg[\"baseline\"]] + cfg[\"courses\"]\n",
    "        idx = [t for t in time_order if t in comp_frac.index]\n",
    "        if not idx:\n",
    "            ax.set_title(f\"{model} (no matching courses)\")\n",
    "            continue\n",
    "\n",
    "        df = comp_frac.loc[idx, lesion_cols]  # <-- restrict to lesions only\n",
    "\n",
    "        # plot each lesion as line\n",
    "        for comp in df.columns:\n",
    "            ax.plot(df.index, df[comp], marker=\"o\",\n",
    "                    label=comp, color=palette.get(comp, \"#BBBBBB\"),\n",
    "                    lw=2)\n",
    "\n",
    "        ax.set_title(f\"{model}\")\n",
    "        ax.set_xlabel(\"Course\")\n",
    "        ax.set_ylabel(\"Fraction of cells\")\n",
    "        ax.set_xticks(range(len(idx)))\n",
    "        ax.set_xticklabels(idx, rotation=45, ha=\"right\")\n",
    "\n",
    "    # single legend outside\n",
    "    handles, labels = axes[-1].get_legend_handles_labels()\n",
    "    fig.legend(handles, labels, title=\"Lesion\", bbox_to_anchor=(1.02, 1), loc=\"upper left\")\n",
    "    plt.tight_layout()\n",
    "    plt.show()\n",
    "\n",
    "# Example call\n",
    "plot_lesion_dynamics_by_model(comp_frac, MODELS, compartment_palette)"
   ]
  },
  {
   "cell_type": "code",
   "execution_count": null,
   "id": "768647b6-7842-4a18-9b7b-bfc46a649d62",
   "metadata": {},
   "outputs": [],
   "source": [
    "ad_sn.write('../../../data/neighborhoods_subset.h5ad')"
   ]
  },
  {
   "cell_type": "markdown",
   "id": "f2d1b8a6-82eb-4b16-a3af-9ac2a623959b",
   "metadata": {},
   "source": [
    "# construct full adata for spatial neighbourhood mapping"
   ]
  },
  {
   "cell_type": "code",
   "execution_count": null,
   "id": "a0581a8e-724d-44ce-9973-909f12aa71f8",
   "metadata": {},
   "outputs": [],
   "source": [
    "ad_sn_list = []\n",
    "for i in ad.obs['sample_id'].unique():\n",
    "    print(i)\n",
    "    ad_sub_sample = ad[ad.obs['sample_id'] == i]\n",
    "    ad_sn_ = spatial_neigbourshoods(anndata = ad_sub_sample, cluster_label = 'cell_type_compartment',max_distance_allowed = 70) #50 #600 #200#550\n",
    "    ad_sn_list.append(ad_sn_)"
   ]
  },
  {
   "cell_type": "code",
   "execution_count": null,
   "id": "30d2154d-df3a-45e5-8701-64e1cf1a7900",
   "metadata": {},
   "outputs": [],
   "source": [
    "ad_sn_all = sc.concat(ad_sn_list, join = 'outer', fill_value = 0)"
   ]
  },
  {
   "cell_type": "markdown",
   "id": "9ad85f3c-f09d-4a77-8076-5a49359ade1d",
   "metadata": {},
   "source": [
    "# run ingest for label mapping"
   ]
  },
  {
   "cell_type": "code",
   "execution_count": null,
   "id": "48efc6f6-9696-463b-8d36-fedabafca02f",
   "metadata": {},
   "outputs": [],
   "source": [
    "ad_sn_all2.obs_names_make_unique()"
   ]
  },
  {
   "cell_type": "code",
   "execution_count": null,
   "id": "0ab52168-4c10-4a66-88d8-265fbdf52e42",
   "metadata": {},
   "outputs": [],
   "source": [
    "ad_sn.obs_names_make_unique()"
   ]
  },
  {
   "cell_type": "code",
   "execution_count": null,
   "id": "1fb20cd6-18cf-4f99-8f7d-410cda4dcc55",
   "metadata": {},
   "outputs": [],
   "source": [
    "def wipe_neighbors(adata, key=\"neighbors\"):\n",
    "    if key in adata.uns:\n",
    "        u = adata.uns[key]\n",
    "        for kk in (\"distances_key\",\"connectivities_key\"):\n",
    "            if kk in u and u[kk] in adata.obsp:\n",
    "                del adata.obsp[u[kk]]\n",
    "        del adata.uns[key]\n",
    "    for k in list(adata.obsp.keys()):\n",
    "        if k.endswith((\"distances\",\"connectivities\")) or k in (\"distances\",\"connectivities\"):\n",
    "            del adata.obsp[k]\n",
    "\n",
    "wipe_neighbors(ad_sn)"
   ]
  },
  {
   "cell_type": "code",
   "execution_count": null,
   "id": "052c00c1-2bde-4f58-9a7d-f824753495bb",
   "metadata": {},
   "outputs": [],
   "source": [
    "import numpy as np, scanpy as sc\n",
    "\n",
    "# Make sure ref has a PCA for the *current* genes\n",
    "if \"X_pca\" not in ad_sn.obsm or ad_sn.obsm[\"X_pca\"].shape[0] != ad_sn.n_obs:\n",
    "    sc.tl.pca(ad_sn, n_comps=min(50, ad_sn.n_vars))\n",
    "\n",
    "X = ad_sn.obsm[\"X_pca\"]\n",
    "if np.isnan(X).any() or np.isinf(X).any():\n",
    "    # Drop bad cells (or handle as you prefer)\n",
    "    good = ~np.isnan(X).any(1) & ~np.isinf(X).any(1)\n",
    "    ad_sn._inplace_subset_obs(good)\n",
    "    sc.tl.pca(ad_sn, n_comps=min(50, ad_sn.n_vars))\n",
    "    X = ad_sn.obsm[\"X_pca\"]"
   ]
  },
  {
   "cell_type": "code",
   "execution_count": null,
   "id": "69189473-768e-4d23-a34b-9147acd798b8",
   "metadata": {},
   "outputs": [],
   "source": [
    "from sklearn.neighbors import NearestNeighbors\n",
    "import scipy.sparse as sp\n",
    "\n",
    "k = min(15, ad_sn.n_obs-1)\n",
    "\n",
    "nbrs = NearestNeighbors(n_neighbors=k+1, metric=\"euclidean\").fit(X)\n",
    "dist, idx = nbrs.kneighbors(X)\n",
    "\n",
    "# remove self (first column is usually self; if not, drop whichever equals i)\n",
    "n = ad_sn.n_obs\n",
    "row_ids = np.arange(n)\n",
    "# find self position per row\n",
    "self_pos = np.argmax(idx == row_ids[:,None], axis=1)  # position where neighbor equals self\n",
    "mask = np.ones_like(idx, dtype=bool)\n",
    "mask[row_ids, self_pos] = False\n",
    "# keep first k neighbors after removing self\n",
    "idx2  = idx[mask].reshape(n, k)\n",
    "dist2 = dist[mask].reshape(n, k)\n",
    "\n",
    "# build CSR matrices\n",
    "rows = np.repeat(row_ids, k)\n",
    "cols = idx2.ravel()\n",
    "dataD = dist2.ravel()\n",
    "dataC = np.ones_like(dataD, dtype=float)\n",
    "\n",
    "D_csr = sp.csr_matrix((dataD, (rows, cols)), shape=(n, n))\n",
    "C_csr = sp.csr_matrix((dataC, (rows, cols)), shape=(n, n))\n",
    "\n",
    "# register under a clean key\n",
    "ad_sn.obsp[\"neighbors_ingest_distances\"] = D_csr\n",
    "ad_sn.obsp[\"neighbors_ingest_connectivities\"] = C_csr\n",
    "ad_sn.uns[\"neighbors_ingest\"] = {\n",
    "    \"connectivities_key\": \"neighbors_ingest_connectivities\",\n",
    "    \"distances_key\": \"neighbors_ingest_distances\",\n",
    "    \"params\": {\"n_neighbors\": k, \"method\": \"sklearn\", \"random_state\": 0, \"metric\": \"euclidean\"},\n",
    "}"
   ]
  },
  {
   "cell_type": "code",
   "execution_count": null,
   "id": "5be0126e-2858-4605-b012-11b268c8a253",
   "metadata": {},
   "outputs": [],
   "source": [
    "ad_sn_all"
   ]
  },
  {
   "cell_type": "code",
   "execution_count": null,
   "id": "ab5ebcc9-d292-4819-8bd7-2b0ad9195147",
   "metadata": {},
   "outputs": [],
   "source": [
    "ad_sn"
   ]
  },
  {
   "cell_type": "code",
   "execution_count": null,
   "id": "b427f48a-b8c1-4121-acee-afdea6c7bf9c",
   "metadata": {},
   "outputs": [],
   "source": [
    "lens = np.array([len(r) for r in D_csr.tolil().rows])\n",
    "print(\"Unique neighbor counts:\", np.unique(lens))  # should be [k]\n"
   ]
  },
  {
   "cell_type": "code",
   "execution_count": null,
   "id": "5d5da94d-4d94-4a24-a3c3-681edc71d234",
   "metadata": {},
   "outputs": [],
   "source": [
    "ad_sn_all.X = ad_sn_all.X.astype(float)\n",
    "ad_sn.X = ad_sn.X.astype(float)"
   ]
  },
  {
   "cell_type": "code",
   "execution_count": null,
   "id": "a46617be-caf9-4d6b-84f3-c3cabfdb30bb",
   "metadata": {},
   "outputs": [],
   "source": [
    "# Map query onto this reference graph\n",
    "sc.tl.ingest(\n",
    "    ad_sn_all,              # query\n",
    "    ad_sn,                  # reference\n",
    "    obs=\"compartment\",      # or a list of obs keys in newer Scanpy\n",
    "    neighbors_key=\"neighbors_ingest\",\n",
    ")"
   ]
  },
  {
   "cell_type": "code",
   "execution_count": null,
   "id": "4b5d64d2-a153-4732-b266-0b4f84454630",
   "metadata": {},
   "outputs": [],
   "source": [
    "ad_sn_all.obs"
   ]
  },
  {
   "cell_type": "code",
   "execution_count": null,
   "id": "8d3fa7f5-83b0-410e-a435-6d36581b8314",
   "metadata": {},
   "outputs": [],
   "source": [
    "sc.pl.umap(ad_sn_all, color='compartment')"
   ]
  },
  {
   "cell_type": "code",
   "execution_count": null,
   "id": "ac251a23-6cd2-4c34-a695-711c644c6c03",
   "metadata": {},
   "outputs": [],
   "source": [
    "import scanpy as sc"
   ]
  },
  {
   "cell_type": "code",
   "execution_count": null,
   "id": "0c9c5332-c992-4b0d-afb0-46bc2f4b6a79",
   "metadata": {},
   "outputs": [],
   "source": [
    "spatial = np.array(ad_sn_all.obs[['x_centroid','y_centroid']])\n",
    "ad_sn_all.obsm['spatial'] = spatial"
   ]
  },
  {
   "cell_type": "code",
   "execution_count": null,
   "id": "7f5fbbb4-ab92-438c-bce6-6bed85bbf482",
   "metadata": {},
   "outputs": [],
   "source": [
    "for run in ad_sn_all.obs['grid_label'].unique():\n",
    "    print(run)\n",
    "    ad_int = ad_sn_all[ad_sn_all.obs['grid_label'] == run]\n",
    "    print(ad_int.obs.course.unique())\n",
    "\n",
    "    with plt.rc_context({'figure.figsize': (20, 10)}):\n",
    "        sc.pl.spatial(ad_int, spot_size=10, color = 'compartment')\n",
    "    plt.show()\n",
    "    "
   ]
  },
  {
   "cell_type": "code",
   "execution_count": null,
   "id": "9c4a66c8-34d5-4490-b2c0-32691521dfab",
   "metadata": {},
   "outputs": [],
   "source": []
  },
  {
   "cell_type": "code",
   "execution_count": null,
   "id": "0a7d7194-2f66-4998-a2d8-f45169e138f0",
   "metadata": {},
   "outputs": [],
   "source": [
    "import pandas as pd\n",
    "\n",
    "# contingency table: counts of cells per (course, merged_cluster)\n",
    "comp = pd.crosstab(ad_sn_all.obs[\"course\"], ad_sn_all.obs[\"compartment\"])\n",
    "\n",
    "# convert to fractions per course\n",
    "comp_frac = comp.div(comp.sum(axis=1), axis=0)\n",
    "\n",
    "print(comp.head())       # absolute counts\n",
    "print(comp_frac.head())  # relative composition"
   ]
  },
  {
   "cell_type": "code",
   "execution_count": null,
   "id": "a57489c0-97a3-47b6-bc30-b336fc5f5897",
   "metadata": {},
   "outputs": [],
   "source": [
    "palette = compartment_palette  # extracted from adata\n",
    "cols = comp_frac.columns.tolist()\n",
    "\n",
    "missing = [c for c in cols if c not in palette]\n",
    "if missing:\n",
    "    print(\"No color for:\", missing)\n",
    "\n",
    "colors = [palette.get(c, \"#BBBBBB\") for c in cols]  # fallback grey\n",
    "\n",
    "ax = comp_frac.plot(\n",
    "    kind=\"bar\", stacked=True, figsize=(10, 6),\n",
    "    color=colors, edgecolor=\"none\"\n",
    ")\n",
    "ax.set_ylabel(\"Fraction of cells\")\n",
    "ax.set_title(\"Compartment composition across courses\")\n",
    "ax.legend(title=\"Compartment\", bbox_to_anchor=(1.02, 1), loc=\"upper left\")\n",
    "plt.tight_layout()\n",
    "plt.show()"
   ]
  },
  {
   "cell_type": "code",
   "execution_count": null,
   "id": "68819b95-2e8f-4766-90dc-2764c4bc6ca9",
   "metadata": {},
   "outputs": [],
   "source": []
  }
 ],
 "metadata": {
  "kernelspec": {
   "display_name": "sc",
   "language": "python",
   "name": "sc"
  },
  "language_info": {
   "codemirror_mode": {
    "name": "ipython",
    "version": 3
   },
   "file_extension": ".py",
   "mimetype": "text/x-python",
   "name": "python",
   "nbconvert_exporter": "python",
   "pygments_lexer": "ipython3",
   "version": "3.8.20"
  }
 },
 "nbformat": 4,
 "nbformat_minor": 5
}
